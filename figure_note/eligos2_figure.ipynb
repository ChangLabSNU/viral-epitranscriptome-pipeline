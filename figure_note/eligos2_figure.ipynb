{
 "cells": [
  {
   "cell_type": "code",
   "execution_count": 1,
   "metadata": {},
   "outputs": [
    {
     "name": "stdout",
     "output_type": "stream",
     "text": [
      "/qbio/ari/works/SCV2_2022_re\n"
     ]
    }
   ],
   "source": [
    "%cd /qbio/ari/works/SCV2_2022_re"
   ]
  },
  {
   "cell_type": "code",
   "execution_count": 3,
   "metadata": {},
   "outputs": [],
   "source": [
    "import pandas as pd\n",
    "import numpy as np\n",
    "import matplotlib.pyplot as plt\n",
    "import seaborn as sns\n",
    "\n",
    "import matplotlib\n",
    "matplotlib.rcParams.update({'font.size': 12})\n",
    "matplotlib.rcParams.update({'figure.facecolor': 'white'})\n",
    "\n",
    "matplotlib.rcParams['ytick.labelright'] = True\n",
    "matplotlib.rcParams['ytick.labelleft'] = False\n",
    "matplotlib.rcParams['ytick.right'] = True\n",
    "matplotlib.rcParams['ytick.left'] = False"
   ]
  },
  {
   "cell_type": "code",
   "execution_count": 4,
   "metadata": {},
   "outputs": [],
   "source": [
    "orfcolors = {'ORF1a': '#c5d9ea',\n",
    " 'ORF1b': '#e8d2c4',\n",
    " 'S': '#82c91e',\n",
    " 'ORF3a': '#3bc9db',\n",
    " 'E': '#228be6',\n",
    " 'M': '#9fb1fc',\n",
    " 'ORF6': '#7950f2',\n",
    " 'ORF7a': '#da77f2',\n",
    " 'ORF7b': '#e64980',\n",
    " 'ORF8': '#fd7e14',\n",
    " 'N': '#ffd43b'}"
   ]
  },
  {
   "cell_type": "code",
   "execution_count": 5,
   "metadata": {},
   "outputs": [],
   "source": [
    "anno = pd.read_csv('hy_/refs/SARS-CoV-2-annotations.gff'\n",
    "                   , sep='\\t', names=['chrom', 'type', 'name', 'start', 'end', 'x', 'y', 'z'])\n",
    "cdsanno = anno[anno['type'] == 'CDS']\n",
    "cdsanno = cdsanno.iloc[:10].sort_values(by='start').iloc[:9]\n",
    "cdsanno = pd.concat([\n",
    "    cdsanno,\n",
    "    pd.DataFrame([\n",
    "        pd.Series(['chrSCV', 'CDS', 'ORF1a', 266, 13468, '.', '.', '.'], index=cdsanno.columns),\n",
    "        pd.Series(['chrSCV', 'CDS', 'ORF1b', 13468, 21552, '.', '.', '.'], index=cdsanno.columns),\n",
    "    ])])\n",
    "cdsanno = cdsanno.sort_values(by='start').iloc[:, 2:5].reset_index(drop=True)\n",
    "cdsanno['color'] = cdsanno['name'].apply(orfcolors.__getitem__)\n",
    "#cdsanno.to_pickle('tmp/cdsannotation.pickle')\n",
    "cdsanno\n",
    "\n",
    "from Bio import Seq\n",
    "from Bio import SeqIO\n",
    "\n",
    "reference_sequence = 'hy_/refs/SARS-CoV-2-RNA.fa'\n",
    "refseq = str(next(SeqIO.parse(reference_sequence, 'fasta')).seq).upper().replace('T', 'U')"
   ]
  },
  {
   "cell_type": "code",
   "execution_count": 6,
   "metadata": {},
   "outputs": [],
   "source": [
    "SAMPLES_ALL = 'Korea_2020 Freiburg_2020_1 IVT_1 IVT_2'.split(' ')\n",
    "SAMPLES_VIRAL = 'Korea_2020 Freiburg_2020_1'.split(' ')\n",
    "SAMPLES_CTL = 'IVT_1 IVT_2'.split(' ')"
   ]
  },
  {
   "cell_type": "code",
   "execution_count": 9,
   "metadata": {},
   "outputs": [],
   "source": [
    "viral_colors = {'Korea_2020':'crimson',\n",
    "                'Freiburg_2020_1':'dodgerblue',\n",
    "               }\n",
    "sample_anno = {'Korea_2020': 'Kim, 2020',\n",
    "             'Freiburg_2020_1': 'Miladi, 2020',\n",
    "              'IVT_1': 'IVT 1',\n",
    "               'IVT_2': 'IVT 2'}"
   ]
  },
  {
   "cell_type": "code",
   "execution_count": null,
   "metadata": {},
   "outputs": [],
   "source": [
    "RCS_modfracs = []\n",
    "for i, file in enumerate(['eligos2/pairdiff/RCS/Korea_2020/Korea_2020.genome.sorted_vs_IVT_1.genome.sorted_on_ont-refs_combine.txt',\n",
    "                        'eligos2/pairdiff/RCS/Korea_2020/Korea_2020.genome.sorted_vs_IVT_2.genome.sorted_on_ont-refs_combine.txt',\n",
    "                        'eligos2/pairdiff/RCS/Freiburg_2020_1/Freiburg_2020_1.genome.sorted_vs_IVT_1.genome.sorted_on_ont-refs_combine.txt',\n",
    "                        'eligos2/pairdiff/RCS/Freiburg_2020_1/Freiburg_2020_1.genome.sorted_vs_IVT_1.genome.sorted_on_ont-refs_combine.txt'],\n",
    "                        ):\n",
    "    stats = pd.read_csv(file, sep = '\\t')\n",
    "    name = SAMPLES_VIRAL[i//2]\n",
    "    ivt = SAMPLES_VIRAL[i%2]\n",
    "    stats['sample'] = name\n",
    "    stats['rep'] = ivt\n",
    "    RCS_modfracs.append(stats)\n",
    "RCS_modfracs = pd.concat(RCS_modfracs).sort_values(by=['start_loc', 'sample'])\n",
    "RCS_modfracs = RCS_modfracs.reset_index(drop=True)\n",
    "    "
   ]
  },
  {
   "cell_type": "code",
   "execution_count": 13,
   "metadata": {},
   "outputs": [],
   "source": [
    "import pickle"
   ]
  },
  {
   "cell_type": "markdown",
   "metadata": {},
   "source": [
    "with open(\"fig_pickle/eligos2_RCS.pickle\", \"wb\") as f:\n",
    "    pickle.dump(RCS_modfracs, f)"
   ]
  },
  {
   "cell_type": "code",
   "execution_count": 94,
   "metadata": {},
   "outputs": [],
   "source": [
    "with open(\"fig_pickle/eligos2_RCS.pickle\", \"rb\") as f:\n",
    "    RCS_modfracs = pickle.load(f)"
   ]
  },
  {
   "cell_type": "code",
   "execution_count": 95,
   "metadata": {},
   "outputs": [],
   "source": [
    "RCS_modfracs = RCS_modfracs[RCS_modfracs['test_cor_1']+RCS_modfracs['test_err_1']>=500]\n",
    "RCS_modfracs = RCS_modfracs[RCS_modfracs['ctrl_cor_1']+RCS_modfracs['ctrl_err_1']>=500]\n",
    "RCS_modfracs = RCS_modfracs[RCS_modfracs['homo_seq']=='--']"
   ]
  },
  {
   "cell_type": "code",
   "execution_count": 10,
   "metadata": {},
   "outputs": [],
   "source": [
    "modfracs = []\n",
    "for file, name in zip([f'eligos2/pairdiff/{name}/combine.txt' for name in SAMPLES_VIRAL],\n",
    "              SAMPLES_VIRAL):\n",
    "    stats = pd.read_csv(file, sep = '\\t')\n",
    "    stats['sample'] = name\n",
    "    modfracs.append(stats)\n",
    "\n",
    "modfracs = pd.concat(modfracs).sort_values(by=['start_loc', 'sample'])\n",
    "modfracs = modfracs.reset_index(drop=True)\n"
   ]
  },
  {
   "cell_type": "code",
   "execution_count": 15,
   "metadata": {},
   "outputs": [],
   "source": [
    "with open(\"fig_pickle/eligos2_total.pickle\", \"wb\") as f:\n",
    "    pickle.dump(modfracs, f)"
   ]
  },
  {
   "cell_type": "code",
   "execution_count": 30,
   "metadata": {},
   "outputs": [],
   "source": [
    "modfracs = modfracs[modfracs['ctrl_err_1']+modfracs['ctrl_cor_1']>=500]\n",
    "modfracs = modfracs[modfracs['test_err_1']+modfracs['test_cor_1']>=500]\n",
    "modfracs = modfracs[modfracs['homo_seq']=='--']"
   ]
  },
  {
   "cell_type": "code",
   "execution_count": 96,
   "metadata": {},
   "outputs": [
    {
     "data": {
      "image/png": "[encoded data removed]",
      "text/plain": [
       "<Figure size 345.6x172.8 with 1 Axes>"
      ]
     },
     "metadata": {},
     "output_type": "display_data"
    }
   ],
   "source": [
    "fig, ax = plt.subplots(1,1, figsize=(4.8, 2.4))\n",
    "for name in SAMPLES_VIRAL:\n",
    "    plotdf = RCS_modfracs[RCS_modfracs['sample']==name]\n",
    "    sns.kdeplot(plotdf['ESB_test'],\n",
    "               cumulative=True, color=viral_colors[name],\n",
    "               label=f'{sample_anno[name]}, RCS')\n",
    "ax.legend()\n",
    "\n",
    "ax.set_xlim(0, 0.4)\n",
    "\n",
    "for name in SAMPLES_VIRAL:\n",
    "    plotdf = modfracs[modfracs['sample']==name]\n",
    "    sns.kdeplot(plotdf['ESB_test'],\n",
    "               cumulative=True, color=viral_colors[name],\n",
    "               label=f'{sample_anno[name]}, viral RNA', linestyle='--')\n",
    "\n",
    "ax.legend()\n",
    "\n",
    "ax.set_xlim(0, 0.4)\n",
    "fig.savefig('figfinal/ESB_curv.pdf')"
   ]
  },
  {
   "cell_type": "code",
   "execution_count": 82,
   "metadata": {},
   "outputs": [],
   "source": [
    "frp_esb = np.percentile(RCS_modfracs['ESB_test'], 95)\n",
    "frp_oddR = np.percentile(RCS_modfracs['oddR'], 95)"
   ]
  },
  {
   "cell_type": "code",
   "execution_count": 83,
   "metadata": {},
   "outputs": [
    {
     "data": {
      "text/plain": [
       "1.8085510427997695"
      ]
     },
     "execution_count": 83,
     "metadata": {},
     "output_type": "execute_result"
    }
   ],
   "source": [
    "frp_oddR"
   ]
  },
  {
   "cell_type": "code",
   "execution_count": 84,
   "metadata": {},
   "outputs": [],
   "source": [
    "MIN_COV = 500\n",
    "MIN_ODDR = frp_oddR\n",
    "AGG_DIS = 4\n",
    "MIN_MODFRAC = frp_esb\n",
    "MAX_PVALUE = 0.05\n",
    "\n",
    "class eligos2:\n",
    "    \n",
    "    def __init__(self, filelist, samples):\n",
    "        self.filelist = filelist\n",
    "        self.samples = samples\n",
    "        self.max_distance = 4\n",
    "        self.minimum_coverage = MIN_COV\n",
    "    \n",
    "    def load_combine_all(self):\n",
    "        modfracs = []\n",
    "        for file, name in zip(self.filelist, self.samples):\n",
    "            stats = pd.read_csv(file, sep = '\\t')\n",
    "            stats['sample'] = name\n",
    "            modfracs.append(stats)\n",
    "\n",
    "        modfracs = pd.concat(modfracs).sort_values(by=['start_loc', 'sample'])\n",
    "        modfracs = modfracs.reset_index(drop=True)\n",
    "        return(modfracs)\n",
    "\n",
    "    def get_modified_sites(self, pvalue=0.05, hp_filter=True):\n",
    "        positive_positions = set()\n",
    "        for file, name in zip(self.filelist, self.samples):\n",
    "            stats = pd.read_csv(file, sep = '\\t')\n",
    "            if hp_filter:\n",
    "                stats = stats[stats['homo_seq']=='--']\n",
    "\n",
    "            stats_high = stats[(stats['test_cor_1']+stats['test_err_1']>= MIN_COV) &\n",
    "                               (stats['ctrl_cor_1']+stats['ctrl_err_1']>= MIN_COV) &\n",
    "                                   (stats['oddR'] >= MIN_ODDR) &\n",
    "                              (stats['adjPval']<=MAX_PVALUE)&\n",
    "                              (stats['ESB_test']>=0.01)]\n",
    "            positive_positions |= set(stats_high['end_loc'].tolist())\n",
    "\n",
    "        modfracs=[]\n",
    "        for file, name in zip(self.filelist, self.samples):\n",
    "            stats = pd.read_csv(file, sep = '\\t')\n",
    "            stats['sample'] = name\n",
    "            modfracs.append(stats[stats['end_loc'].isin(positive_positions)])\n",
    "\n",
    "\n",
    "        if len(modfracs) > 0:\n",
    "            ret = pd.concat(modfracs).sort_values(by=['end_loc', 'sample']).reset_index(drop=True)\n",
    "            return ret\n",
    "\n",
    "    def aggregate_adjacent_sites(self, modfracs):\n",
    "\n",
    "        modsites_raw = sorted(modfracs['end_loc'].unique())\n",
    "        continuity = np.diff(modsites_raw) <= self.max_distance\n",
    "        \n",
    "        modsite_groups = [[modsites_raw.pop(0)]]\n",
    "        for pos, cont in zip(modsites_raw, continuity):\n",
    "            if cont:\n",
    "                modsite_groups[-1].append(pos)\n",
    "            else:\n",
    "                modsite_groups.append([pos])\n",
    "\n",
    "        purified = []\n",
    "        for modsites in modsite_groups:\n",
    "            modfracsites = modfracs[modfracs['end_loc'].isin(modsites)]\n",
    "\n",
    "            modfracsites_high = modfracsites[modfracsites['total_reads'] >= self.minimum_coverage]\n",
    "            maxpos = modfracsites.loc[modfracsites_high['oddR'].idxmax()]\n",
    "            purified.append(modfracsites[modfracsites['end_loc'] == maxpos['end_loc']])\n",
    "\n",
    "        return pd.concat(purified)\n",
    "    \n",
    "    def summarize_into_table(self, aggrtbl):\n",
    "        mod_frac_all = pd.pivot_table(aggrtbl, columns='sample', values=['oddR'],\n",
    "                                     index=['end_loc', 'strand'])['oddR'].copy()\n",
    "        coverage = pd.pivot_table(aggrtbl, columns='sample', values=['total_reads'],\n",
    "                                 index=['end_loc', 'strand'])['total_reads'].copy()\n",
    "        esb = pd.pivot_table(aggrtbl, columns='sample', values=['ESB_test'],\n",
    "                                 index=['end_loc', 'strand'])['ESB_test'].copy()\n",
    "        return esb, mod_frac_all, coverage\n",
    "\n",
    "\n",
    "def add_context_info(sitemodfrac, refseq, flanksize):\n",
    "    context_list=[]\n",
    "    for pos, strand in sitemodfrac.index:\n",
    "        pos = pos -1 # one based in end_loc\n",
    "        context=refseq[pos-flanksize:pos].lower() + refseq[pos:pos+1].upper()+ refseq[pos+1:pos+1+flanksize].lower()\n",
    "        if strand =='-':\n",
    "            context = str(Seq.Seq(context).reverse_complement())\n",
    "        else:\n",
    "            context = context\n",
    "        context_list.append(context)\n",
    "        \n",
    "    return(context_list)\n",
    "\n",
    "\n",
    "eligos2_analysis = eligos2([f'eligos2/pairdiff/{name}/combine.txt' for name in SAMPLES_VIRAL],\n",
    "              SAMPLES_VIRAL)\n",
    "eligos2_modfracs = eligos2_analysis.load_combine_all()\n",
    "\n",
    "eligos2_freqmods = eligos2_analysis.get_modified_sites()\n",
    "eligos2_psites = eligos2_analysis.aggregate_adjacent_sites(eligos2_freqmods)\n",
    "\n",
    "eligos2_esb, eligos2_sitemodfrac, eligos2_sitecov= eligos2_analysis.summarize_into_table(eligos2_psites)\n",
    "\n",
    "eligos2_sitemodfrac['context'] = add_context_info(eligos2_sitemodfrac, refseq, 10)\n",
    "\n",
    "eligos2_sitemodfrac = eligos2_sitemodfrac.reset_index().set_index('end_loc')"
   ]
  },
  {
   "cell_type": "code",
   "execution_count": null,
   "metadata": {},
   "outputs": [],
   "source": []
  },
  {
   "cell_type": "code",
   "execution_count": 107,
   "metadata": {},
   "outputs": [],
   "source": [
    "with open(\"fig_pickle/eligos2_sitemodfrac.pickle\", \"wb\") as f:\n",
    "    pickle.dump(eligos2_sitemodfrac, f)"
   ]
  },
  {
   "cell_type": "code",
   "execution_count": 108,
   "metadata": {},
   "outputs": [
    {
     "data": {
      "image/png": "[encoded data removed]",
      "text/plain": [
       "<Figure size 345.6x172.8 with 1 Axes>"
      ]
     },
     "metadata": {},
     "output_type": "display_data"
    }
   ],
   "source": [
    "fig, ax = plt.subplots(1,1, facecolor='white', figsize=(4.8,2.4))\n",
    "\n",
    "for sample in SAMPLES_VIRAL:\n",
    "    \n",
    "    name = sample\n",
    "    plot_x = np.arange(len(refseq))\n",
    "    plot_y = np.zeros(len(refseq))\n",
    "    tempfrac = eligos2_sitemodfrac[eligos2_sitemodfrac[name]>=MIN_ODDR]\n",
    "\n",
    "    plot_y[tempfrac[name].index] = np.log2(tempfrac[name])\n",
    "    \n",
    "    ax.scatter(tempfrac.index, np.log2(tempfrac[name]),\n",
    "                alpha=.5, s=15, label=sample_anno[name], c=viral_colors[name])\n",
    "    \n",
    "    ax.plot(plot_x, plot_y, color='black', alpha=.5, lw=.3)\n",
    "ax.set_xlim(0, len(refseq))\n",
    "ax.legend()\n",
    "ax.set_ylabel('m6A probability')\n",
    "\n",
    "\n",
    "for spside in 'top left right'.split():\n",
    "    plt.setp(ax.spines[spside], visible=False)\n",
    "\n",
    "ax.grid(True)\n",
    "plt.setp(ax.get_xgridlines(), visible=False)\n",
    "\n",
    "for _, row in cdsanno.iterrows():\n",
    "    ax.axvspan(row['start'], row['end'], fc=row['color'], alpha=.4, zorder=0)\n",
    "ax.set_ylim(0, 5)\n",
    "plt.tight_layout()\n",
    "ax.legend(bbox_to_anchor=(1.05, 1.0), loc='upper left')\n",
    "\n",
    "plt.tight_layout()\n",
    "fig.savefig('figfinal/eligos2_output_2.pdf')"
   ]
  },
  {
   "cell_type": "code",
   "execution_count": 91,
   "metadata": {},
   "outputs": [],
   "source": [
    "def meme(posdf):\n",
    "    with open('temp_fasta.fa', 'w') as outpfile:\n",
    "        for _, line in posdf.iterrows():\n",
    "            #strand = line['strand']\n",
    "            strand = '+'\n",
    "            pos = _-1\n",
    "            flanksize = 10\n",
    "            context=refseq[pos-flanksize:pos].lower() + refseq[pos:pos+1].upper()+ refseq[pos+1:pos+1+flanksize].lower()\n",
    "            \n",
    "            if strand =='-':\n",
    "                context = str(Seq.Seq(context).reverse_complement())\n",
    "            else:\n",
    "                context = context\n",
    "            print(f'>{pos},{strand}', file=outpfile)\n",
    "            print(context, file=outpfile)"
   ]
  },
  {
   "cell_type": "code",
   "execution_count": 103,
   "metadata": {},
   "outputs": [
    {
     "name": "stdout",
     "output_type": "stream",
     "text": [
      "The output directory 'meme_eligos2/' already exists.\n",
      "Its contents will be overwritten.\n",
      "CD: cefrac 0.25 length 21 central region 4\n",
      "BACKGROUND: using background model of order 0\n",
      "PRIMARY (cd): n 207 p0 103 p1 52 p2 52\n",
      "SEQUENCE GROUP USAGE-- Starts/EM: p0; Trim: p1; pvalue: p2; nsites: p0,p1,p2\n",
      "Option '-maxw' is greather than the length of longest sequence (21).  Setting '-maxw' to 21.\n",
      "SEEDS: maxwords 4347 highwater mark: seq 207 pos 13\n",
      "BALANCE: samples 207 chars 4347 nodes 1 chars/node 4347\n",
      "\n",
      "seqs=   207, min_w=  21, max_w=   21, total_size=     4347\n",
      "\n",
      "motif=1\n",
      "SEED DEPTHS: 2 4 8 16 32 64 103\n",
      "SEED WIDTHS: 8 11 15 21\n",
      "em: w=  11, psites= 103, iter=  40 \n",
      "\n"
     ]
    },
    {
     "data": {
      "image/png": "[encoded data removed]",
      "text/plain": [
       "<Figure size 432x288 with 1 Axes>"
      ]
     },
     "metadata": {},
     "output_type": "display_data"
    }
   ],
   "source": [
    "meme(eligos2_sitemodfrac[eligos2_sitemodfrac['Freiburg_2020_1']<=30])\n",
    "!conda run -n meme meme temp_fasta.fa -oc meme_eligos2/ -rna  -objfun cd -mod zoops\n",
    "\n",
    "import matplotlib.pyplot as plt\n",
    "import matplotlib.image as mpimg\n",
    "img = mpimg.imread('meme_eligos2/logo1.png')\n",
    "imgplot = plt.imshow(img)"
   ]
  },
  {
   "cell_type": "code",
   "execution_count": null,
   "metadata": {},
   "outputs": [],
   "source": []
  }
 ],
 "metadata": {
  "kernelspec": {
   "display_name": "Python 3",
   "language": "python",
   "name": "python3"
  },
  "language_info": {
   "codemirror_mode": {
    "name": "ipython",
    "version": 3
   },
   "file_extension": ".py",
   "mimetype": "text/x-python",
   "name": "python",
   "nbconvert_exporter": "python",
   "pygments_lexer": "ipython3",
   "version": "3.8.12"
  }
 },
 "nbformat": 4,
 "nbformat_minor": 4
}
