{
 "cells": [
  {
   "cell_type": "code",
   "execution_count": 1,
   "metadata": {},
   "outputs": [
    {
     "name": "stdout",
     "output_type": "stream",
     "text": [
      "/qbio/ari/works/SCV2_2022_re\n"
     ]
    }
   ],
   "source": [
    "%cd /qbio/ari/works/SCV2_2022_re"
   ]
  },
  {
   "cell_type": "code",
   "execution_count": 3,
   "metadata": {},
   "outputs": [],
   "source": [
    "import pandas as pd\n",
    "import numpy as np\n",
    "import matplotlib.pyplot as plt\n",
    "import seaborn as sns\n",
    "\n",
    "import matplotlib\n",
    "matplotlib.rcParams.update({'font.size': 12})\n",
    "matplotlib.rcParams.update({'figure.facecolor': 'white'})\n",
    "\n",
    "matplotlib.rcParams['ytick.labelright'] = True\n",
    "matplotlib.rcParams['ytick.labelleft'] = False\n",
    "matplotlib.rcParams['ytick.right'] = True\n",
    "matplotlib.rcParams['ytick.left'] = False"
   ]
  },
  {
   "cell_type": "code",
   "execution_count": 4,
   "metadata": {},
   "outputs": [],
   "source": [
    "orfcolors = {'ORF1a': '#c5d9ea',\n",
    " 'ORF1b': '#e8d2c4',\n",
    " 'S': '#82c91e',\n",
    " 'ORF3a': '#3bc9db',\n",
    " 'E': '#228be6',\n",
    " 'M': '#9fb1fc',\n",
    " 'ORF6': '#7950f2',\n",
    " 'ORF7a': '#da77f2',\n",
    " 'ORF7b': '#e64980',\n",
    " 'ORF8': '#fd7e14',\n",
    " 'N': '#ffd43b'}"
   ]
  },
  {
   "cell_type": "code",
   "execution_count": 5,
   "metadata": {},
   "outputs": [],
   "source": [
    "anno = pd.read_csv('hy_/refs/SARS-CoV-2-annotations.gff'\n",
    "                   , sep='\\t', names=['chrom', 'type', 'name', 'start', 'end', 'x', 'y', 'z'])\n",
    "cdsanno = anno[anno['type'] == 'CDS']\n",
    "cdsanno = cdsanno.iloc[:10].sort_values(by='start').iloc[:9]\n",
    "cdsanno = pd.concat([\n",
    "    cdsanno,\n",
    "    pd.DataFrame([\n",
    "        pd.Series(['chrSCV', 'CDS', 'ORF1a', 266, 13468, '.', '.', '.'], index=cdsanno.columns),\n",
    "        pd.Series(['chrSCV', 'CDS', 'ORF1b', 13468, 21552, '.', '.', '.'], index=cdsanno.columns),\n",
    "    ])])\n",
    "cdsanno = cdsanno.sort_values(by='start').iloc[:, 2:5].reset_index(drop=True)\n",
    "cdsanno['color'] = cdsanno['name'].apply(orfcolors.__getitem__)\n",
    "#cdsanno.to_pickle('tmp/cdsannotation.pickle')\n",
    "cdsanno\n",
    "\n",
    "from Bio import Seq\n",
    "from Bio import SeqIO\n",
    "\n",
    "reference_sequence = 'hy_/refs/SARS-CoV-2-RNA.fa'\n",
    "refseq = str(next(SeqIO.parse(reference_sequence, 'fasta')).seq).upper().replace('T', 'U')"
   ]
  },
  {
   "cell_type": "code",
   "execution_count": 6,
   "metadata": {},
   "outputs": [],
   "source": [
    "SAMPLES_ALL = 'Korea_2020 Freiburg_2020_1 IVT_1 IVT_2'.split(' ')\n",
    "SAMPLES_VIRAL = 'Korea_2020 Freiburg_2020_1'.split(' ')\n",
    "SAMPLES_CTL = 'IVT_1 IVT_2'.split(' ')\n"
   ]
  },
  {
   "cell_type": "code",
   "execution_count": 7,
   "metadata": {},
   "outputs": [],
   "source": [
    "viral_colors = {'Korea_2020':'crimson',\n",
    "                'Freiburg_2020_1':'dodgerblue',\n",
    "               }\n",
    "sample_anno = {'Korea_2020': 'Kim, 2020',\n",
    "             'Freiburg_2020_1': 'Miladi, 2020',\n",
    "              'IVT_1': 'IVT 1',\n",
    "               'IVT_2': 'IVT 2'}"
   ]
  },
  {
   "cell_type": "code",
   "execution_count": 8,
   "metadata": {},
   "outputs": [],
   "source": [
    "modfracs = []\n",
    "for file, name in zip([f'm6anet/try2/{name}/data.result.csv.gz' for name in SAMPLES_ALL],\n",
    "              SAMPLES_ALL):\n",
    "    stats = pd.read_csv(file, sep = ',', compression='gzip')\n",
    "    stats['sample'] = name\n",
    "    modfracs.append(stats)\n",
    "modfracs = pd.concat(modfracs).sort_values(by=['transcript_id','transcript_position','sample'])\n",
    "modfracs.columns = 'chr pos cov probability sample'.split(' ')\n",
    "\n",
    "modfracs['pos'] +=1"
   ]
  },
  {
   "cell_type": "code",
   "execution_count": 9,
   "metadata": {},
   "outputs": [],
   "source": [
    "modfrac_pivot = modfracs.pivot(index='pos', columns='sample', values='probability').fillna(0)\n",
    "modfrac_pivot['IVT'] = (modfrac_pivot['IVT_1']+modfrac_pivot['IVT_2'])/2\n",
    "modfrac_pivot_ = modfrac_pivot['Freiburg_2020_1 Korea_2020 IVT'.split(' ')]"
   ]
  },
  {
   "cell_type": "code",
   "execution_count": 11,
   "metadata": {},
   "outputs": [],
   "source": [
    "import pickle\n",
    "with open(\"fig_pickle/m6Anet_pivot.picke\", \"wb\") as f:\n",
    "    pickle.dump(modfrac_pivot_, f)"
   ]
  },
  {
   "cell_type": "code",
   "execution_count": 14,
   "metadata": {},
   "outputs": [
    {
     "data": {
      "image/png": "[encoded data removed]",
      "text/plain": [
       "<Figure size 345.6x259.2 with 1 Axes>"
      ]
     },
     "metadata": {},
     "output_type": "display_data"
    }
   ],
   "source": [
    "fig, ax = plt.subplots(1,1, figsize=(4.8, 3.6))\n",
    "\n",
    "for i, name in enumerate('Korea_2020 Freiburg_2020_1 IVT'.split(' ')):\n",
    "    tempplot = modfrac_pivot_[name]\n",
    "    try:\n",
    "        c = viral_colors[name]\n",
    "    except:\n",
    "        c = 'grey'\n",
    "    try:\n",
    "        label = sample_anno[name]\n",
    "    except:\n",
    "        label = name\n",
    "    sns.kdeplot(tempplot, cumulative=True,\n",
    "               \n",
    "                fill=False, color=c,\n",
    "              label=name)\n",
    "\n",
    "ax.set_xlim(0,  1)\n",
    "#ax.axvline(frp, zorder=0, color='red', lw=1, alpha=.8)\n",
    "\n",
    "ax.legend(loc='lower right')\n",
    "ax.set_xlabel('m6a probability')\n",
    "plt.savefig('figfinal/m6Aprob_curv.pdf')"
   ]
  },
  {
   "cell_type": "code",
   "execution_count": 15,
   "metadata": {},
   "outputs": [
    {
     "data": {
      "text/plain": [
       "0.44500653599999973"
      ]
     },
     "execution_count": 15,
     "metadata": {},
     "output_type": "execute_result"
    }
   ],
   "source": [
    "frp = np.percentile(modfrac_pivot_['IVT'], 95)\n",
    "frp"
   ]
  },
  {
   "cell_type": "code",
   "execution_count": 16,
   "metadata": {},
   "outputs": [],
   "source": [
    "MIN_COV = 500\n",
    "class m6anet:\n",
    "    \n",
    "    def __init__(self, filelist, samples, frp):\n",
    "        self.filelist = filelist\n",
    "        self.samples = samples\n",
    "        self.max_distance = 4\n",
    "        self.minimum_coverage = MIN_COV\n",
    "        self.min_modfrac = frp\n",
    "    \n",
    "    def load_combine_all(self):\n",
    "        modfracs = []\n",
    "        for file, name in zip(self.filelist, self.samples):\n",
    "            stats = pd.read_csv(file, sep = ',', compression='gzip')\n",
    "            stats['sample'] = name\n",
    "            modfracs.append(stats)\n",
    "        modfracs = pd.concat(modfracs).sort_values(by=['transcript_id','transcript_position','sample'])\n",
    "        modfracs.columns = 'chr pos cov probability sample'.split(' ')\n",
    "        \n",
    "        modfracs['pos'] +=1\n",
    "        return(modfracs)\n",
    "\n",
    "    def get_modified_sites(self, hp_filter=True):\n",
    "        positive_positions = set()\n",
    "        for file, name in zip(self.filelist, self.samples):\n",
    "            stats = pd.read_csv(file, sep = ',', compression='gzip')\n",
    "            stats.columns = 'chr pos cov probability'.split(' ')\n",
    "\n",
    "        \n",
    "            stats_high = stats[(stats['cov']>=self.minimum_coverage)&\n",
    "                               (stats['probability']>=self.min_modfrac)]\n",
    "            positive_positions |= set(stats_high['pos'].tolist())\n",
    "\n",
    "        modfracs=[]\n",
    "        for file, name in zip(self.filelist, self.samples):\n",
    "            stats = pd.read_csv(file, sep = ',', compression='gzip')\n",
    "            stats['sample'] = name\n",
    "            stats.columns =  'chr pos cov probability sample'.split(' ')\n",
    "            modfracs.append(stats[stats['pos'].isin(positive_positions)])\n",
    "\n",
    "\n",
    "        if len(modfracs) > 0:\n",
    "            ret = pd.concat(modfracs).sort_values(by=['pos', 'sample']).reset_index(drop=True)\n",
    "            ret['pos'] +=1\n",
    "            return ret\n",
    "\n",
    "    def aggregate_adjacent_sites(self, modfracs):\n",
    "\n",
    "        modsites_raw = sorted(modfracs['pos'].unique())\n",
    "        continuity = np.diff(modsites_raw) <= self.max_distance\n",
    "        \n",
    "        modsite_groups = [[modsites_raw.pop(0)]]\n",
    "        for pos, cont in zip(modsites_raw, continuity):\n",
    "            if cont:\n",
    "                modsite_groups[-1].append(pos)\n",
    "            else:\n",
    "                modsite_groups.append([pos])\n",
    "\n",
    "        purified = []\n",
    "        for modsites in modsite_groups:\n",
    "            modfracsites = modfracs[modfracs['pos'].isin(modsites)]\n",
    "\n",
    "            modfracsites_high = modfracsites[modfracsites['cov'] >= self.minimum_coverage]\n",
    "            maxpos = modfracsites.loc[modfracsites_high['probability'].idxmax()]\n",
    "            purified.append(modfracsites[modfracsites['pos'] == maxpos['pos']])\n",
    "\n",
    "        return pd.concat(purified)\n",
    "    \n",
    "    def summarize_into_table(self, aggrtbl):\n",
    "        mod_frac_all = pd.pivot_table(aggrtbl, columns='sample', values=['probability'],\n",
    "                                     index=['pos'])['probability'].copy()\n",
    "        coverage = pd.pivot_table(aggrtbl, columns='sample', values=['cov'],\n",
    "                                 index=['pos'])['cov'].copy()\n",
    "\n",
    "        return mod_frac_all, coverage\n",
    "\n",
    "\n",
    "def add_context_info(sitemodfrac, refseq, flanksize):\n",
    "    context_list=[]\n",
    "    for pos in sitemodfrac.index:\n",
    "        pos = pos -1 # one based in end_loc\n",
    "        context=refseq[pos-flanksize:pos].lower() + refseq[pos:pos+1].upper()+ refseq[pos+1:pos+1+flanksize].lower()\n",
    "        \n",
    "        context_list.append(context)\n",
    "        \n",
    "    return(context_list)\n",
    "\n",
    "\n",
    "m6anet_analysis = m6anet([f'm6anet/try2/{name}/data.result.csv.gz' for name in SAMPLES_ALL],\n",
    "              SAMPLES_ALL,\n",
    "             frp)\n",
    "m6anet_modfracs = m6anet_analysis.load_combine_all()\n",
    "m6anet_freqmods = m6anet_analysis.get_modified_sites()\n",
    "m6anet_psites = m6anet_analysis.aggregate_adjacent_sites(m6anet_freqmods)\n",
    "\n",
    "m6anet_sitemodfrac, m6anet_sitecov= m6anet_analysis.summarize_into_table(m6anet_psites)\n",
    "\n",
    "m6anet_sitemodfrac['context'] = add_context_info(m6anet_sitemodfrac, refseq, 10)\n"
   ]
  },
  {
   "cell_type": "code",
   "execution_count": 23,
   "metadata": {},
   "outputs": [],
   "source": [
    "with open(\"fig_pickle/m6Anet_sitemodfrac.pickle\", \"wb\") as f:\n",
    "    pickle.dump(m6anet_sitemodfrac, f)"
   ]
  },
  {
   "cell_type": "code",
   "execution_count": 18,
   "metadata": {},
   "outputs": [
    {
     "data": {
      "image/png": "[encoded data removed]",
      "text/plain": [
       "<Figure size 345.6x172.8 with 1 Axes>"
      ]
     },
     "metadata": {},
     "output_type": "display_data"
    }
   ],
   "source": [
    "fig, ax = plt.subplots(1,1, facecolor='white', figsize=(4.8,2.4))\n",
    "\n",
    "for sample in SAMPLES_VIRAL:\n",
    "    \n",
    "    name = sample\n",
    "    plot_x = np.arange(len(refseq))\n",
    "    plot_y = np.zeros(len(refseq))\n",
    "    tempfrac = m6anet_sitemodfrac[m6anet_sitemodfrac[name]>=frp]\n",
    "\n",
    "    plot_y[tempfrac[name].index] = tempfrac[name]\n",
    "    \n",
    "    ax.scatter(tempfrac.index, tempfrac[name],\n",
    "                alpha=.5, s=15, label=sample_anno[name], c=viral_colors[name])\n",
    "    \n",
    "    ax.plot(plot_x, plot_y, color='black', alpha=.5, lw=.3)\n",
    "ax.set_xlim(0, len(refseq))\n",
    "ax.legend()\n",
    "ax.set_ylabel('m6A probability')\n",
    "\n",
    "\n",
    "for spside in 'top left right'.split():\n",
    "    plt.setp(ax.spines[spside], visible=False)\n",
    "\n",
    "ax.grid(True)\n",
    "plt.setp(ax.get_xgridlines(), visible=False)\n",
    "\n",
    "for _, row in cdsanno.iterrows():\n",
    "    ax.axvspan(row['start'], row['end'], fc=row['color'], alpha=.4, zorder=0)\n",
    "ax.set_ylim(0, 1)\n",
    "plt.tight_layout()\n",
    "ax.legend(bbox_to_anchor=(1.05, 1.0), loc='upper left')\n",
    "\n",
    "plt.tight_layout()\n",
    "plt.savefig('figfinal/m6Anet_output.pdf')"
   ]
  },
  {
   "cell_type": "code",
   "execution_count": 20,
   "metadata": {},
   "outputs": [],
   "source": [
    "def meme(posdf):\n",
    "    with open('temp_fasta.fa', 'w') as outpfile:\n",
    "        for _, line in posdf.iterrows():\n",
    "            #strand = line['strand']\n",
    "            strand = '+'\n",
    "            pos = _-1\n",
    "            flanksize = 10\n",
    "            context=refseq[pos-flanksize:pos].lower() + refseq[pos:pos+1].upper()+ refseq[pos+1:pos+1+flanksize].lower()\n",
    "            \n",
    "            if strand =='-':\n",
    "                context = str(Seq.Seq(context).reverse_complement())\n",
    "            else:\n",
    "                context = context\n",
    "            print(f'>{pos},{strand}', file=outpfile)\n",
    "            print(context, file=outpfile)"
   ]
  },
  {
   "cell_type": "code",
   "execution_count": 21,
   "metadata": {},
   "outputs": [
    {
     "name": "stdout",
     "output_type": "stream",
     "text": [
      "The output directory 'meme_m6anet/' already exists.\n",
      "Its contents will be overwritten.\n",
      "CD: cefrac 0.25 length 21 central region 4\n",
      "BACKGROUND: using background model of order 0\n",
      "PRIMARY (cd): n 85 p0 42 p1 21 p2 22\n",
      "SEQUENCE GROUP USAGE-- Starts/EM: p0; Trim: p1; pvalue: p2; nsites: p0,p1,p2\n",
      "Option '-maxw' is greather than the length of longest sequence (21).  Setting '-maxw' to 21.\n",
      "SEEDS: maxwords 1785 highwater mark: seq 85 pos 13\n",
      "BALANCE: samples 85 chars 1785 nodes 1 chars/node 1785\n",
      "\n",
      "seqs=    85, min_w=  21, max_w=   21, total_size=     1785\n",
      "\n",
      "motif=1\n",
      "SEED DEPTHS: 2 4 8 16 32 42\n",
      "SEED WIDTHS: 8 11 15 21\n",
      "em: w=  11, psites=  42, iter=   0 \n",
      "\n"
     ]
    },
    {
     "data": {
      "image/png": "[encoded data removed]",
      "text/plain": [
       "<Figure size 432x288 with 1 Axes>"
      ]
     },
     "metadata": {},
     "output_type": "display_data"
    }
   ],
   "source": [
    "meme(m6anet_sitemodfrac)\n",
    "!conda run -n meme meme temp_fasta.fa -oc meme_m6anet/ -rna  -objfun cd -mod zoops\n",
    "\n",
    "import matplotlib.pyplot as plt\n",
    "import matplotlib.image as mpimg\n",
    "img = mpimg.imread('meme_m6anet/logo1.png')\n",
    "imgplot = plt.imshow(img)"
   ]
  },
  {
   "cell_type": "code",
   "execution_count": null,
   "metadata": {},
   "outputs": [],
   "source": []
  }
 ],
 "metadata": {
  "kernelspec": {
   "display_name": "Python 3",
   "language": "python",
   "name": "python3"
  },
  "language_info": {
   "codemirror_mode": {
    "name": "ipython",
    "version": 3
   },
   "file_extension": ".py",
   "mimetype": "text/x-python",
   "name": "python",
   "nbconvert_exporter": "python",
   "pygments_lexer": "ipython3",
   "version": "3.8.12"
  }
 },
 "nbformat": 4,
 "nbformat_minor": 4
}
